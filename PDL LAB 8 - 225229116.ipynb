{
 "cells": [
  {
   "cell_type": "markdown",
   "id": "cfd7708c",
   "metadata": {},
   "source": [
    "# Lab8. Audio corpus creation and binary classification using DNN"
   ]
  },
  {
   "cell_type": "code",
   "execution_count": 1,
   "id": "d144f75a",
   "metadata": {
    "colab": {
     "base_uri": "https://localhost:8080/"
    },
    "id": "d144f75a",
    "outputId": "7e6af626-a79a-4565-c9dd-0f9bf4810e3b"
   },
   "outputs": [
    {
     "name": "stdout",
     "output_type": "stream",
     "text": [
      "Requirement already satisfied: librosa in /usr/local/lib/python3.10/dist-packages (0.10.0.post2)\n",
      "Requirement already satisfied: audioread>=2.1.9 in /usr/local/lib/python3.10/dist-packages (from librosa) (3.0.0)\n",
      "Requirement already satisfied: numpy!=1.22.0,!=1.22.1,!=1.22.2,>=1.20.3 in /usr/local/lib/python3.10/dist-packages (from librosa) (1.22.4)\n",
      "Requirement already satisfied: scipy>=1.2.0 in /usr/local/lib/python3.10/dist-packages (from librosa) (1.10.1)\n",
      "Requirement already satisfied: scikit-learn>=0.20.0 in /usr/local/lib/python3.10/dist-packages (from librosa) (1.2.2)\n",
      "Requirement already satisfied: joblib>=0.14 in /usr/local/lib/python3.10/dist-packages (from librosa) (1.3.1)\n",
      "Requirement already satisfied: decorator>=4.3.0 in /usr/local/lib/python3.10/dist-packages (from librosa) (4.4.2)\n",
      "Requirement already satisfied: numba>=0.51.0 in /usr/local/lib/python3.10/dist-packages (from librosa) (0.56.4)\n",
      "Requirement already satisfied: soundfile>=0.12.1 in /usr/local/lib/python3.10/dist-packages (from librosa) (0.12.1)\n",
      "Requirement already satisfied: pooch<1.7,>=1.0 in /usr/local/lib/python3.10/dist-packages (from librosa) (1.6.0)\n",
      "Requirement already satisfied: soxr>=0.3.2 in /usr/local/lib/python3.10/dist-packages (from librosa) (0.3.5)\n",
      "Requirement already satisfied: typing-extensions>=4.1.1 in /usr/local/lib/python3.10/dist-packages (from librosa) (4.7.1)\n",
      "Requirement already satisfied: lazy-loader>=0.1 in /usr/local/lib/python3.10/dist-packages (from librosa) (0.3)\n",
      "Requirement already satisfied: msgpack>=1.0 in /usr/local/lib/python3.10/dist-packages (from librosa) (1.0.5)\n",
      "Requirement already satisfied: llvmlite<0.40,>=0.39.0dev0 in /usr/local/lib/python3.10/dist-packages (from numba>=0.51.0->librosa) (0.39.1)\n",
      "Requirement already satisfied: setuptools in /usr/local/lib/python3.10/dist-packages (from numba>=0.51.0->librosa) (67.7.2)\n",
      "Requirement already satisfied: appdirs>=1.3.0 in /usr/local/lib/python3.10/dist-packages (from pooch<1.7,>=1.0->librosa) (1.4.4)\n",
      "Requirement already satisfied: packaging>=20.0 in /usr/local/lib/python3.10/dist-packages (from pooch<1.7,>=1.0->librosa) (23.1)\n",
      "Requirement already satisfied: requests>=2.19.0 in /usr/local/lib/python3.10/dist-packages (from pooch<1.7,>=1.0->librosa) (2.27.1)\n",
      "Requirement already satisfied: threadpoolctl>=2.0.0 in /usr/local/lib/python3.10/dist-packages (from scikit-learn>=0.20.0->librosa) (3.2.0)\n",
      "Requirement already satisfied: cffi>=1.0 in /usr/local/lib/python3.10/dist-packages (from soundfile>=0.12.1->librosa) (1.15.1)\n",
      "Requirement already satisfied: pycparser in /usr/local/lib/python3.10/dist-packages (from cffi>=1.0->soundfile>=0.12.1->librosa) (2.21)\n",
      "Requirement already satisfied: urllib3<1.27,>=1.21.1 in /usr/local/lib/python3.10/dist-packages (from requests>=2.19.0->pooch<1.7,>=1.0->librosa) (1.26.16)\n",
      "Requirement already satisfied: certifi>=2017.4.17 in /usr/local/lib/python3.10/dist-packages (from requests>=2.19.0->pooch<1.7,>=1.0->librosa) (2023.7.22)\n",
      "Requirement already satisfied: charset-normalizer~=2.0.0 in /usr/local/lib/python3.10/dist-packages (from requests>=2.19.0->pooch<1.7,>=1.0->librosa) (2.0.12)\n",
      "Requirement already satisfied: idna<4,>=2.5 in /usr/local/lib/python3.10/dist-packages (from requests>=2.19.0->pooch<1.7,>=1.0->librosa) (3.4)\n"
     ]
    }
   ],
   "source": [
    "!pip install librosa"
   ]
  },
  {
   "cell_type": "code",
   "execution_count": 2,
   "id": "c67d8b69-035f-419a-890d-04e824b29e81",
   "metadata": {
    "id": "c67d8b69-035f-419a-890d-04e824b29e81"
   },
   "outputs": [],
   "source": [
    "import os\n",
    "import numpy as np\n",
    "import pandas as pd\n",
    "import librosa\n",
    "import scipy.signal\n",
    "import tensorflow as tf\n",
    "import time\n",
    "import matplotlib.pyplot as plt\n",
    "from keras.layers import Dense, Flatten\n",
    "from keras.models import Sequential"
   ]
  },
  {
   "cell_type": "code",
   "execution_count": 4,
   "id": "1fdea6d9-e5ee-4aa2-b739-a3520c0cdba9",
   "metadata": {
    "id": "1fdea6d9-e5ee-4aa2-b739-a3520c0cdba9"
   },
   "outputs": [],
   "source": [
    "def process_audio_files(folder_path):\n",
    "    audio_data=[]\n",
    "    file_list=os.listdir(folder_path)\n",
    "    mp3_files=[file for file in file_list if file.endswith('.mp3')]\n",
    "    for mp3_file in mp3_files:\n",
    "        file_path=os.path.join(folder_path,mp3_file)\n",
    "        y,sr=librosa.load(file_path,sr=None)\n",
    "        audio_data.append((y, sr))\n",
    "    return audio_data"
   ]
  },
  {
   "cell_type": "code",
   "execution_count": 6,
   "id": "eaf823dd-3dee-4f04-b7a6-4293e19926ca",
   "metadata": {
    "id": "eaf823dd-3dee-4f04-b7a6-4293e19926ca"
   },
   "outputs": [],
   "source": [
    "folder_path='sample_data//cat'\n",
    "audio=process_audio_files(folder_path)"
   ]
  },
  {
   "cell_type": "code",
   "execution_count": 7,
   "id": "4d545781-44e8-4653-aed6-6474061c92b3",
   "metadata": {
    "colab": {
     "base_uri": "https://localhost:8080/"
    },
    "id": "4d545781-44e8-4653-aed6-6474061c92b3",
    "outputId": "0395d30e-0851-45e8-a94c-ea4b62d54cb4"
   },
   "outputs": [
    {
     "data": {
      "text/plain": [
       "[(array([0.        , 0.        , 0.        , ..., 0.02211756, 0.02021475,\n",
       "         0.01168255], dtype=float32),\n",
       "  48000),\n",
       " (array([0.        , 0.        , 0.        , ..., 0.02002131, 0.02306777,\n",
       "         0.01730498], dtype=float32),\n",
       "  48000),\n",
       " (array([0.        , 0.        , 0.        , ..., 0.02088441, 0.02539636,\n",
       "         0.01974409], dtype=float32),\n",
       "  48000),\n",
       " (array([ 0.        ,  0.        ,  0.        , ..., -0.01336266,\n",
       "         -0.01330735, -0.0091626 ], dtype=float32),\n",
       "  48000),\n",
       " (array([ 0.        ,  0.        ,  0.        , ..., -0.0163647 ,\n",
       "         -0.01587155, -0.01154031], dtype=float32),\n",
       "  48000),\n",
       " (array([ 0.        ,  0.        ,  0.        , ..., -0.009379  ,\n",
       "         -0.0107859 , -0.00566604], dtype=float32),\n",
       "  48000),\n",
       " (array([ 0.        ,  0.        ,  0.        , ..., -0.00780205,\n",
       "         -0.00998528, -0.00769939], dtype=float32),\n",
       "  48000),\n",
       " (array([0.        , 0.        , 0.        , ..., 0.01750566, 0.02169211,\n",
       "         0.01574345], dtype=float32),\n",
       "  48000),\n",
       " (array([0.        , 0.        , 0.        , ..., 0.00611622, 0.00728178,\n",
       "         0.00598932], dtype=float32),\n",
       "  48000),\n",
       " (array([ 0.        ,  0.        ,  0.        , ..., -0.01377062,\n",
       "         -0.01656381, -0.01348157], dtype=float32),\n",
       "  48000)]"
      ]
     },
     "execution_count": 7,
     "metadata": {},
     "output_type": "execute_result"
    }
   ],
   "source": [
    "audio"
   ]
  },
  {
   "cell_type": "code",
   "execution_count": 8,
   "id": "d8ac2379-ebb1-4f1d-beda-f5028e2b14eb",
   "metadata": {
    "id": "d8ac2379-ebb1-4f1d-beda-f5028e2b14eb"
   },
   "outputs": [],
   "source": [
    "folder_path='sample_data//mat'\n",
    "audio1=process_audio_files(folder_path)"
   ]
  },
  {
   "cell_type": "code",
   "execution_count": 9,
   "id": "bd1c220c-2015-4952-9190-0cd12db56668",
   "metadata": {
    "colab": {
     "base_uri": "https://localhost:8080/"
    },
    "id": "bd1c220c-2015-4952-9190-0cd12db56668",
    "outputId": "e3a98b66-6070-4071-fb35-9131d9876006"
   },
   "outputs": [
    {
     "data": {
      "text/plain": [
       "[(array([0.        , 0.        , 0.        , ..., 0.04415061, 0.05186606,\n",
       "         0.04076651], dtype=float32),\n",
       "  48000),\n",
       " (array([ 0.        ,  0.        ,  0.        , ..., -0.02186836,\n",
       "         -0.02531097, -0.01882702], dtype=float32),\n",
       "  48000),\n",
       " (array([ 0.        ,  0.        ,  0.        , ..., -0.00283113,\n",
       "         -0.00390778, -0.00514695], dtype=float32),\n",
       "  48000),\n",
       " (array([0.        , 0.        , 0.        , ..., 0.00397619, 0.00869065,\n",
       "         0.00809947], dtype=float32),\n",
       "  48000),\n",
       " (array([0.        , 0.        , 0.        , ..., 0.0245386 , 0.03200411,\n",
       "         0.02712047], dtype=float32),\n",
       "  48000),\n",
       " (array([ 0.        ,  0.        ,  0.        , ..., -0.02233866,\n",
       "         -0.02426209, -0.02025038], dtype=float32),\n",
       "  48000),\n",
       " (array([0.        , 0.        , 0.        , ..., 0.03597236, 0.03660373,\n",
       "         0.02603437], dtype=float32),\n",
       "  48000),\n",
       " (array([ 0.        ,  0.        ,  0.        , ..., -0.0363427 ,\n",
       "         -0.03576628, -0.02407473], dtype=float32),\n",
       "  48000),\n",
       " (array([0.        , 0.        , 0.        , ..., 0.05528521, 0.06023503,\n",
       "         0.04488189], dtype=float32),\n",
       "  48000),\n",
       " (array([ 0.        ,  0.        ,  0.        , ..., -0.07375773,\n",
       "         -0.07672676, -0.05462236], dtype=float32),\n",
       "  48000)]"
      ]
     },
     "execution_count": 9,
     "metadata": {},
     "output_type": "execute_result"
    }
   ],
   "source": [
    "audio1"
   ]
  },
  {
   "cell_type": "markdown",
   "id": "2ee276f8-4f4b-4148-847f-afa9ede81ccf",
   "metadata": {
    "id": "2ee276f8-4f4b-4148-847f-afa9ede81ccf"
   },
   "source": [
    "###### Step-2"
   ]
  },
  {
   "cell_type": "code",
   "execution_count": 10,
   "id": "c0b49046-0046-4f8a-9757-10dfa69f4116",
   "metadata": {
    "id": "c0b49046-0046-4f8a-9757-10dfa69f4116"
   },
   "outputs": [],
   "source": [
    "def extract_stft_features(audio_data,max_frames,max_bins):\n",
    "    stft_features=[]\n",
    "    for audio in audio_data:\n",
    "        y,sr=audio\n",
    "        _,_,Zxx =scipy.signal.stft(y, fs=sr)\n",
    "        stft_magnitude=np.abs(Zxx)\n",
    "        pad_rows=max_frames-stft_magnitude.shape[0]\n",
    "        pad_cols=max_bins-stft_magnitude.shape[1]\n",
    "        stft_magnitude=np.pad(stft_magnitude,((0,max(0,pad_rows)),(0,max(0,pad_cols))),mode='constant')\n",
    "        stft_magnitude=stft_magnitude[:max_frames,:max_bins]\n",
    "        stft_features.append(stft_magnitude)\n",
    "    return np.array(stft_features)"
   ]
  },
  {
   "cell_type": "code",
   "execution_count": 11,
   "id": "79ae1576-bebe-46df-9eda-e61dc6f9802c",
   "metadata": {
    "id": "79ae1576-bebe-46df-9eda-e61dc6f9802c"
   },
   "outputs": [],
   "source": [
    "max_frames=100\n",
    "max_bins=129"
   ]
  },
  {
   "cell_type": "code",
   "execution_count": 15,
   "id": "d56dc549-a6e4-4d0e-b118-8aeb848546f6",
   "metadata": {
    "id": "d56dc549-a6e4-4d0e-b118-8aeb848546f6"
   },
   "outputs": [],
   "source": [
    "cat=extract_stft_features(audio,max_frames,max_bins)\n",
    "mat=extract_stft_features(audio1,max_frames,max_bins)"
   ]
  },
  {
   "cell_type": "code",
   "execution_count": 13,
   "id": "b957a9de-38a1-4106-b8fc-4be2ede05e92",
   "metadata": {
    "colab": {
     "base_uri": "https://localhost:8080/"
    },
    "id": "b957a9de-38a1-4106-b8fc-4be2ede05e92",
    "outputId": "115286d5-9e3b-476a-e994-fda6b7c57c6f"
   },
   "outputs": [
    {
     "data": {
      "text/plain": [
       "array([[[0.00000000e+00, 0.00000000e+00, 0.00000000e+00, ...,\n",
       "         2.02262122e-02, 5.01466542e-02, 2.20277067e-02],\n",
       "        [0.00000000e+00, 0.00000000e+00, 0.00000000e+00, ...,\n",
       "         2.58404166e-02, 3.26694921e-02, 1.87698919e-02],\n",
       "        [0.00000000e+00, 0.00000000e+00, 0.00000000e+00, ...,\n",
       "         1.53764291e-02, 1.59718879e-02, 9.06452816e-03],\n",
       "        ...,\n",
       "        [0.00000000e+00, 0.00000000e+00, 0.00000000e+00, ...,\n",
       "         9.15302607e-08, 5.67605376e-08, 1.00192395e-07],\n",
       "        [0.00000000e+00, 0.00000000e+00, 0.00000000e+00, ...,\n",
       "         4.69978652e-08, 2.88961459e-08, 1.90485032e-08],\n",
       "        [0.00000000e+00, 0.00000000e+00, 0.00000000e+00, ...,\n",
       "         1.68948855e-08, 1.29001565e-08, 2.12374651e-08]],\n",
       "\n",
       "       [[0.00000000e+00, 0.00000000e+00, 0.00000000e+00, ...,\n",
       "         1.57098044e-02, 1.61150210e-02, 1.29205838e-03],\n",
       "        [0.00000000e+00, 0.00000000e+00, 0.00000000e+00, ...,\n",
       "         1.07490625e-02, 1.01810182e-02, 6.71091303e-03],\n",
       "        [0.00000000e+00, 0.00000000e+00, 0.00000000e+00, ...,\n",
       "         7.97351543e-03, 3.92317493e-03, 8.97438265e-03],\n",
       "        ...,\n",
       "        [0.00000000e+00, 0.00000000e+00, 0.00000000e+00, ...,\n",
       "         2.01283434e-08, 3.84894037e-08, 1.95681373e-08],\n",
       "        [0.00000000e+00, 0.00000000e+00, 0.00000000e+00, ...,\n",
       "         2.61782884e-09, 1.63584311e-08, 3.95806232e-09],\n",
       "        [0.00000000e+00, 0.00000000e+00, 0.00000000e+00, ...,\n",
       "         5.19900167e-09, 1.08090248e-08, 8.26146351e-09]],\n",
       "\n",
       "       [[0.00000000e+00, 0.00000000e+00, 0.00000000e+00, ...,\n",
       "         1.48129249e-02, 8.71927128e-04, 1.96195096e-02],\n",
       "        [0.00000000e+00, 0.00000000e+00, 0.00000000e+00, ...,\n",
       "         1.26565043e-02, 2.80642812e-03, 1.70633551e-02],\n",
       "        [0.00000000e+00, 0.00000000e+00, 0.00000000e+00, ...,\n",
       "         6.53536944e-03, 9.10742849e-04, 8.99430551e-03],\n",
       "        ...,\n",
       "        [0.00000000e+00, 0.00000000e+00, 0.00000000e+00, ...,\n",
       "         4.01692049e-08, 5.70189407e-08, 3.69337343e-08],\n",
       "        [0.00000000e+00, 0.00000000e+00, 0.00000000e+00, ...,\n",
       "         7.78952458e-09, 2.39896725e-08, 2.92539903e-09],\n",
       "        [0.00000000e+00, 0.00000000e+00, 0.00000000e+00, ...,\n",
       "         5.82485704e-09, 1.47518842e-08, 2.09306439e-08]],\n",
       "\n",
       "       ...,\n",
       "\n",
       "       [[0.00000000e+00, 0.00000000e+00, 0.00000000e+00, ...,\n",
       "         2.23149192e-02, 7.57935969e-03, 2.58157607e-02],\n",
       "        [0.00000000e+00, 0.00000000e+00, 0.00000000e+00, ...,\n",
       "         1.57520566e-02, 7.39929918e-03, 1.39469607e-02],\n",
       "        [0.00000000e+00, 0.00000000e+00, 0.00000000e+00, ...,\n",
       "         4.95382911e-03, 2.19692825e-03, 4.46815335e-04],\n",
       "        ...,\n",
       "        [0.00000000e+00, 0.00000000e+00, 0.00000000e+00, ...,\n",
       "         2.74305592e-08, 6.17155678e-08, 5.11106109e-08],\n",
       "        [0.00000000e+00, 0.00000000e+00, 0.00000000e+00, ...,\n",
       "         2.61571431e-09, 2.37847408e-09, 1.04960751e-08],\n",
       "        [0.00000000e+00, 0.00000000e+00, 0.00000000e+00, ...,\n",
       "         4.95803620e-09, 1.90541858e-08, 1.01211075e-08]],\n",
       "\n",
       "       [[0.00000000e+00, 0.00000000e+00, 0.00000000e+00, ...,\n",
       "         3.50751318e-02, 2.19649579e-02, 6.14966359e-03],\n",
       "        [0.00000000e+00, 0.00000000e+00, 0.00000000e+00, ...,\n",
       "         6.68525398e-02, 4.17798162e-02, 5.13756536e-02],\n",
       "        [0.00000000e+00, 0.00000000e+00, 0.00000000e+00, ...,\n",
       "         8.61585215e-02, 4.36202483e-03, 6.90896288e-02],\n",
       "        ...,\n",
       "        [0.00000000e+00, 0.00000000e+00, 0.00000000e+00, ...,\n",
       "         8.55800195e-08, 1.48482357e-07, 1.27299501e-07],\n",
       "        [0.00000000e+00, 0.00000000e+00, 0.00000000e+00, ...,\n",
       "         1.31705733e-07, 1.66422254e-07, 6.42566320e-08],\n",
       "        [0.00000000e+00, 0.00000000e+00, 0.00000000e+00, ...,\n",
       "         6.95767071e-08, 2.43153302e-08, 3.38495454e-08]],\n",
       "\n",
       "       [[0.00000000e+00, 0.00000000e+00, 0.00000000e+00, ...,\n",
       "         5.93234487e-02, 5.11498004e-02, 1.61629058e-02],\n",
       "        [0.00000000e+00, 0.00000000e+00, 0.00000000e+00, ...,\n",
       "         3.40234004e-02, 2.79506147e-02, 5.32587338e-03],\n",
       "        [0.00000000e+00, 0.00000000e+00, 0.00000000e+00, ...,\n",
       "         4.67488449e-03, 3.62476707e-03, 3.20405397e-03],\n",
       "        ...,\n",
       "        [0.00000000e+00, 0.00000000e+00, 0.00000000e+00, ...,\n",
       "         5.27295576e-08, 7.06176166e-08, 8.41809324e-08],\n",
       "        [0.00000000e+00, 0.00000000e+00, 0.00000000e+00, ...,\n",
       "         8.38824121e-09, 9.52729007e-09, 4.97720665e-09],\n",
       "        [0.00000000e+00, 0.00000000e+00, 0.00000000e+00, ...,\n",
       "         7.09532078e-09, 8.97911256e-09, 3.63916830e-09]]], dtype=float32)"
      ]
     },
     "execution_count": 13,
     "metadata": {},
     "output_type": "execute_result"
    }
   ],
   "source": [
    "cat"
   ]
  },
  {
   "cell_type": "code",
   "execution_count": 16,
   "id": "1d1adc39-c172-42f1-b478-9c07268da1c3",
   "metadata": {
    "colab": {
     "base_uri": "https://localhost:8080/"
    },
    "id": "1d1adc39-c172-42f1-b478-9c07268da1c3",
    "outputId": "d922eee8-bf31-4663-8d86-2301df4e6849"
   },
   "outputs": [
    {
     "data": {
      "text/plain": [
       "array([[[0.00000000e+00, 0.00000000e+00, 0.00000000e+00, ...,\n",
       "         6.76671863e-02, 3.75292711e-02, 2.38517374e-02],\n",
       "        [0.00000000e+00, 0.00000000e+00, 0.00000000e+00, ...,\n",
       "         3.97355147e-02, 2.19617300e-02, 3.04844771e-02],\n",
       "        [0.00000000e+00, 0.00000000e+00, 0.00000000e+00, ...,\n",
       "         9.68677085e-03, 3.49362986e-03, 1.09125739e-02],\n",
       "        ...,\n",
       "        [0.00000000e+00, 0.00000000e+00, 0.00000000e+00, ...,\n",
       "         6.60876083e-08, 1.32129330e-07, 1.93034012e-07],\n",
       "        [0.00000000e+00, 0.00000000e+00, 0.00000000e+00, ...,\n",
       "         1.43331178e-08, 1.97977688e-08, 8.26928925e-09],\n",
       "        [0.00000000e+00, 0.00000000e+00, 0.00000000e+00, ...,\n",
       "         3.61376351e-09, 4.81006834e-09, 1.51211232e-09]],\n",
       "\n",
       "       [[0.00000000e+00, 0.00000000e+00, 0.00000000e+00, ...,\n",
       "         1.48089146e-02, 2.29577441e-02, 2.44681407e-02],\n",
       "        [0.00000000e+00, 0.00000000e+00, 0.00000000e+00, ...,\n",
       "         1.45090669e-02, 1.72619764e-02, 1.79888830e-02],\n",
       "        [0.00000000e+00, 0.00000000e+00, 0.00000000e+00, ...,\n",
       "         4.74095065e-03, 3.94128589e-03, 5.41834394e-03],\n",
       "        ...,\n",
       "        [0.00000000e+00, 0.00000000e+00, 0.00000000e+00, ...,\n",
       "         2.51591583e-08, 5.50407329e-08, 7.20324920e-08],\n",
       "        [0.00000000e+00, 0.00000000e+00, 0.00000000e+00, ...,\n",
       "         1.10143556e-08, 1.63978697e-08, 9.94420901e-09],\n",
       "        [0.00000000e+00, 0.00000000e+00, 0.00000000e+00, ...,\n",
       "         8.32526137e-09, 8.01306399e-09, 6.04499606e-09]],\n",
       "\n",
       "       [[0.00000000e+00, 0.00000000e+00, 0.00000000e+00, ...,\n",
       "         1.00214750e-01, 1.28310218e-01, 5.79744056e-02],\n",
       "        [0.00000000e+00, 0.00000000e+00, 0.00000000e+00, ...,\n",
       "         5.57391196e-02, 8.36497322e-02, 6.35167584e-02],\n",
       "        [0.00000000e+00, 0.00000000e+00, 0.00000000e+00, ...,\n",
       "         2.80091958e-03, 1.34705752e-02, 3.39664295e-02],\n",
       "        ...,\n",
       "        [0.00000000e+00, 0.00000000e+00, 0.00000000e+00, ...,\n",
       "         3.94064500e-07, 2.53791796e-07, 1.97730785e-07],\n",
       "        [0.00000000e+00, 0.00000000e+00, 0.00000000e+00, ...,\n",
       "         3.77265899e-08, 5.92475544e-08, 3.00246832e-08],\n",
       "        [0.00000000e+00, 0.00000000e+00, 0.00000000e+00, ...,\n",
       "         1.76872046e-08, 2.96750766e-08, 7.77572673e-09]],\n",
       "\n",
       "       ...,\n",
       "\n",
       "       [[0.00000000e+00, 0.00000000e+00, 0.00000000e+00, ...,\n",
       "         7.01909289e-02, 3.30062881e-02, 4.37115654e-02],\n",
       "        [0.00000000e+00, 0.00000000e+00, 0.00000000e+00, ...,\n",
       "         7.30663538e-02, 5.46729490e-02, 1.71476658e-02],\n",
       "        [0.00000000e+00, 0.00000000e+00, 0.00000000e+00, ...,\n",
       "         5.39708696e-02, 3.93499881e-02, 3.36363502e-02],\n",
       "        ...,\n",
       "        [0.00000000e+00, 0.00000000e+00, 0.00000000e+00, ...,\n",
       "         9.78753079e-08, 1.02546430e-07, 1.54251751e-07],\n",
       "        [0.00000000e+00, 0.00000000e+00, 0.00000000e+00, ...,\n",
       "         9.15004179e-08, 9.08567159e-08, 9.38103994e-08],\n",
       "        [0.00000000e+00, 0.00000000e+00, 0.00000000e+00, ...,\n",
       "         8.42596108e-08, 1.00980920e-07, 6.33511377e-08]],\n",
       "\n",
       "       [[0.00000000e+00, 0.00000000e+00, 0.00000000e+00, ...,\n",
       "         2.67798956e-02, 9.63799283e-03, 3.53631563e-02],\n",
       "        [0.00000000e+00, 0.00000000e+00, 0.00000000e+00, ...,\n",
       "         3.47845815e-02, 1.22454362e-02, 2.44195256e-02],\n",
       "        [0.00000000e+00, 0.00000000e+00, 0.00000000e+00, ...,\n",
       "         2.05402337e-02, 8.03593360e-03, 7.15873763e-03],\n",
       "        ...,\n",
       "        [0.00000000e+00, 0.00000000e+00, 0.00000000e+00, ...,\n",
       "         2.57046594e-07, 1.13859244e-07, 2.19989545e-07],\n",
       "        [0.00000000e+00, 0.00000000e+00, 0.00000000e+00, ...,\n",
       "         1.93946477e-08, 3.72474673e-08, 5.78598041e-08],\n",
       "        [0.00000000e+00, 0.00000000e+00, 0.00000000e+00, ...,\n",
       "         1.31067086e-08, 7.11485582e-09, 4.85730673e-08]],\n",
       "\n",
       "       [[0.00000000e+00, 0.00000000e+00, 0.00000000e+00, ...,\n",
       "         1.00519527e-02, 4.89512607e-02, 2.25642491e-02],\n",
       "        [0.00000000e+00, 0.00000000e+00, 0.00000000e+00, ...,\n",
       "         8.47600773e-03, 2.82154344e-02, 1.78734474e-02],\n",
       "        [0.00000000e+00, 0.00000000e+00, 0.00000000e+00, ...,\n",
       "         3.16314981e-03, 1.41192169e-03, 7.55664520e-03],\n",
       "        ...,\n",
       "        [0.00000000e+00, 0.00000000e+00, 0.00000000e+00, ...,\n",
       "         1.35946337e-07, 6.84414871e-08, 5.16779082e-08],\n",
       "        [0.00000000e+00, 0.00000000e+00, 0.00000000e+00, ...,\n",
       "         8.79375062e-09, 1.63977294e-08, 5.38571587e-09],\n",
       "        [0.00000000e+00, 0.00000000e+00, 0.00000000e+00, ...,\n",
       "         9.45658840e-09, 2.23728609e-08, 2.51569983e-08]]], dtype=float32)"
      ]
     },
     "execution_count": 16,
     "metadata": {},
     "output_type": "execute_result"
    }
   ],
   "source": [
    "mat"
   ]
  },
  {
   "cell_type": "markdown",
   "id": "0a6447ab-11b5-4f0a-9e36-c29e3a5d22c8",
   "metadata": {
    "id": "0a6447ab-11b5-4f0a-9e36-c29e3a5d22c8"
   },
   "source": [
    "###### Step-3"
   ]
  },
  {
   "cell_type": "code",
   "execution_count": 17,
   "id": "97c43f01-f5a9-47b9-9f11-cf9c6a0f68ac",
   "metadata": {
    "id": "97c43f01-f5a9-47b9-9f11-cf9c6a0f68ac"
   },
   "outputs": [],
   "source": [
    "class_labels=['cat','mat']\n",
    "num_classes=len(class_labels)"
   ]
  },
  {
   "cell_type": "code",
   "execution_count": 18,
   "id": "7eeaaf9a-8c82-4378-b416-46ec1d469cd5",
   "metadata": {
    "id": "7eeaaf9a-8c82-4378-b416-46ec1d469cd5"
   },
   "outputs": [],
   "source": [
    "all_stft_features=cat+mat\n",
    "all_labels=[0]*len(cat)+[1]*len(mat)"
   ]
  },
  {
   "cell_type": "code",
   "execution_count": 19,
   "id": "eff165b8-af3d-4f5d-9985-5073919b542b",
   "metadata": {
    "id": "eff165b8-af3d-4f5d-9985-5073919b542b"
   },
   "outputs": [],
   "source": [
    "indices=np.arange(len(all_stft_features))\n",
    "np.random.shuffle(indices)\n",
    "all_stft_features=[all_stft_features[i] for i in indices]\n",
    "all_labels=[all_labels[i] for i in indices]"
   ]
  },
  {
   "cell_type": "code",
   "execution_count": 20,
   "id": "9590e9ea-1971-4343-8cc2-e74307e64c51",
   "metadata": {
    "id": "9590e9ea-1971-4343-8cc2-e74307e64c51"
   },
   "outputs": [],
   "source": [
    "split_ratio=0.75\n",
    "split_index=int(len(all_stft_features) * split_ratio)\n",
    "x_train,y_train=all_stft_features[:split_index],all_labels[:split_index]\n",
    "x_test,y_test=all_stft_features[split_index:],all_labels[split_index:]"
   ]
  },
  {
   "cell_type": "code",
   "execution_count": 21,
   "id": "9294b5ea-06d7-4069-8cef-67c734f1d678",
   "metadata": {
    "id": "9294b5ea-06d7-4069-8cef-67c734f1d678"
   },
   "outputs": [],
   "source": [
    "x_train=np.array(x_train).astype(np.float32)\n",
    "x_test=np.array(x_test).astype(np.float32)\n",
    "y_train=np.array(y_train).astype(np.int32)\n",
    "y_test=np.array(y_test).astype(np.int32)"
   ]
  },
  {
   "cell_type": "code",
   "execution_count": 23,
   "id": "14f7d9b3-28d5-4d1f-b726-db3dda35e1f8",
   "metadata": {
    "colab": {
     "base_uri": "https://localhost:8080/"
    },
    "id": "14f7d9b3-28d5-4d1f-b726-db3dda35e1f8",
    "outputId": "8d31551f-0327-46b2-f5f2-ad0a43edb614"
   },
   "outputs": [
    {
     "data": {
      "text/plain": [
       "(7, 100, 129)"
      ]
     },
     "execution_count": 23,
     "metadata": {},
     "output_type": "execute_result"
    }
   ],
   "source": [
    "x_train.shape"
   ]
  },
  {
   "cell_type": "code",
   "execution_count": 24,
   "id": "076d144f-7756-49fd-b655-af47a30b0315",
   "metadata": {
    "colab": {
     "base_uri": "https://localhost:8080/"
    },
    "id": "076d144f-7756-49fd-b655-af47a30b0315",
    "outputId": "c2457d51-3be7-488b-80c4-357f15085d83"
   },
   "outputs": [
    {
     "data": {
      "text/plain": [
       "(3, 100, 129)"
      ]
     },
     "execution_count": 24,
     "metadata": {},
     "output_type": "execute_result"
    }
   ],
   "source": [
    "x_test.shape"
   ]
  },
  {
   "cell_type": "code",
   "execution_count": 25,
   "id": "8eaaf5e3-bf43-45de-b3e4-5ee2f783b585",
   "metadata": {
    "colab": {
     "base_uri": "https://localhost:8080/"
    },
    "id": "8eaaf5e3-bf43-45de-b3e4-5ee2f783b585",
    "outputId": "2a702262-fdd3-4dea-ef46-1204234262a1"
   },
   "outputs": [
    {
     "data": {
      "text/plain": [
       "(7,)"
      ]
     },
     "execution_count": 25,
     "metadata": {},
     "output_type": "execute_result"
    }
   ],
   "source": [
    "y_train.shape"
   ]
  },
  {
   "cell_type": "code",
   "execution_count": 26,
   "id": "92bd0d79-74cc-4f3e-b401-e901ff39995b",
   "metadata": {
    "colab": {
     "base_uri": "https://localhost:8080/"
    },
    "id": "92bd0d79-74cc-4f3e-b401-e901ff39995b",
    "outputId": "6ed0a9f4-1922-4df3-f966-3ac058962cfc"
   },
   "outputs": [
    {
     "data": {
      "text/plain": [
       "(3,)"
      ]
     },
     "execution_count": 26,
     "metadata": {},
     "output_type": "execute_result"
    }
   ],
   "source": [
    "y_test.shape"
   ]
  },
  {
   "cell_type": "markdown",
   "id": "556629e4-21cb-4d10-9ce9-b8b01c52f9de",
   "metadata": {
    "id": "556629e4-21cb-4d10-9ce9-b8b01c52f9de"
   },
   "source": [
    "###### Step-4"
   ]
  },
  {
   "cell_type": "code",
   "execution_count": 27,
   "id": "1e0b7760-bc1d-4edc-a3fb-f45f4d3eab07",
   "metadata": {
    "id": "1e0b7760-bc1d-4edc-a3fb-f45f4d3eab07"
   },
   "outputs": [],
   "source": [
    "def create_model(input_shape,num_classes):\n",
    "    model=Sequential()\n",
    "    model.add(Flatten(input_shape=input_shape))\n",
    "    model.add(Dense(128, activation='relu'))\n",
    "    model.add(Dense(num_classes,activation='softmax'))\n",
    "    return model"
   ]
  },
  {
   "cell_type": "code",
   "execution_count": 28,
   "id": "879c19ff-d793-4d38-979f-98380b264b4f",
   "metadata": {
    "colab": {
     "base_uri": "https://localhost:8080/"
    },
    "id": "879c19ff-d793-4d38-979f-98380b264b4f",
    "outputId": "4e4360c5-4dad-4777-c4ba-af7bc821e9c1"
   },
   "outputs": [
    {
     "name": "stdout",
     "output_type": "stream",
     "text": [
      "Model: \"sequential\"\n",
      "_________________________________________________________________\n",
      " Layer (type)                Output Shape              Param #   \n",
      "=================================================================\n",
      " flatten (Flatten)           (None, 12900)             0         \n",
      "                                                                 \n",
      " dense (Dense)               (None, 128)               1651328   \n",
      "                                                                 \n",
      " dense_1 (Dense)             (None, 2)                 258       \n",
      "                                                                 \n",
      "=================================================================\n",
      "Total params: 1,651,586\n",
      "Trainable params: 1,651,586\n",
      "Non-trainable params: 0\n",
      "_________________________________________________________________\n"
     ]
    }
   ],
   "source": [
    "input_shape=x_train[0].shape\n",
    "model=create_model(input_shape,num_classes)\n",
    "model.compile(loss='sparse_categorical_crossentropy',optimizer='adam',metrics=['accuracy'])\n",
    "model.summary()"
   ]
  },
  {
   "cell_type": "code",
   "execution_count": 30,
   "id": "561081e8-2c29-47bf-9fbe-d4a1f5b0ff1a",
   "metadata": {
    "colab": {
     "base_uri": "https://localhost:8080/"
    },
    "id": "561081e8-2c29-47bf-9fbe-d4a1f5b0ff1a",
    "outputId": "996a8836-2a99-40c6-dfdc-ffa68904a961"
   },
   "outputs": [
    {
     "name": "stdout",
     "output_type": "stream",
     "text": [
      "Epoch 1/20\n",
      "1/1 [==============================] - 0s 139ms/step - loss: 0.3637 - accuracy: 1.0000 - val_loss: 0.2796 - val_accuracy: 1.0000\n",
      "Epoch 2/20\n",
      "1/1 [==============================] - 0s 90ms/step - loss: 0.3398 - accuracy: 1.0000 - val_loss: 0.2531 - val_accuracy: 1.0000\n",
      "Epoch 3/20\n",
      "1/1 [==============================] - 0s 99ms/step - loss: 0.3173 - accuracy: 1.0000 - val_loss: 0.2286 - val_accuracy: 1.0000\n",
      "Epoch 4/20\n",
      "1/1 [==============================] - 0s 101ms/step - loss: 0.2963 - accuracy: 1.0000 - val_loss: 0.2061 - val_accuracy: 1.0000\n",
      "Epoch 5/20\n",
      "1/1 [==============================] - 0s 73ms/step - loss: 0.2767 - accuracy: 1.0000 - val_loss: 0.1854 - val_accuracy: 1.0000\n",
      "Epoch 6/20\n",
      "1/1 [==============================] - 0s 85ms/step - loss: 0.2584 - accuracy: 1.0000 - val_loss: 0.1665 - val_accuracy: 1.0000\n",
      "Epoch 7/20\n",
      "1/1 [==============================] - 0s 98ms/step - loss: 0.2413 - accuracy: 1.0000 - val_loss: 0.1493 - val_accuracy: 1.0000\n",
      "Epoch 8/20\n",
      "1/1 [==============================] - 0s 85ms/step - loss: 0.2254 - accuracy: 1.0000 - val_loss: 0.1337 - val_accuracy: 1.0000\n",
      "Epoch 9/20\n",
      "1/1 [==============================] - 0s 97ms/step - loss: 0.2106 - accuracy: 1.0000 - val_loss: 0.1196 - val_accuracy: 1.0000\n",
      "Epoch 10/20\n",
      "1/1 [==============================] - 0s 67ms/step - loss: 0.1969 - accuracy: 1.0000 - val_loss: 0.1069 - val_accuracy: 1.0000\n",
      "Epoch 11/20\n",
      "1/1 [==============================] - 0s 60ms/step - loss: 0.1841 - accuracy: 1.0000 - val_loss: 0.0955 - val_accuracy: 1.0000\n",
      "Epoch 12/20\n",
      "1/1 [==============================] - 0s 55ms/step - loss: 0.1721 - accuracy: 1.0000 - val_loss: 0.0852 - val_accuracy: 1.0000\n",
      "Epoch 13/20\n",
      "1/1 [==============================] - 0s 51ms/step - loss: 0.1611 - accuracy: 1.0000 - val_loss: 0.0761 - val_accuracy: 1.0000\n",
      "Epoch 14/20\n",
      "1/1 [==============================] - 0s 71ms/step - loss: 0.1508 - accuracy: 1.0000 - val_loss: 0.0679 - val_accuracy: 1.0000\n",
      "Epoch 15/20\n",
      "1/1 [==============================] - 0s 56ms/step - loss: 0.1412 - accuracy: 1.0000 - val_loss: 0.0607 - val_accuracy: 1.0000\n",
      "Epoch 16/20\n",
      "1/1 [==============================] - 0s 56ms/step - loss: 0.1323 - accuracy: 1.0000 - val_loss: 0.0542 - val_accuracy: 1.0000\n",
      "Epoch 17/20\n",
      "1/1 [==============================] - 0s 57ms/step - loss: 0.1241 - accuracy: 1.0000 - val_loss: 0.0484 - val_accuracy: 1.0000\n",
      "Epoch 18/20\n",
      "1/1 [==============================] - 0s 55ms/step - loss: 0.1164 - accuracy: 1.0000 - val_loss: 0.0433 - val_accuracy: 1.0000\n",
      "Epoch 19/20\n",
      "1/1 [==============================] - 0s 73ms/step - loss: 0.1093 - accuracy: 1.0000 - val_loss: 0.0388 - val_accuracy: 1.0000\n",
      "Epoch 20/20\n",
      "1/1 [==============================] - 0s 54ms/step - loss: 0.1027 - accuracy: 1.0000 - val_loss: 0.0347 - val_accuracy: 1.0000\n"
     ]
    }
   ],
   "source": [
    "history=model.fit(x_train,y_train,batch_size=32,epochs=20,validation_split=0.1)"
   ]
  },
  {
   "cell_type": "code",
   "execution_count": 31,
   "id": "b8533c8a-280b-4d15-959c-666c37b17f7e",
   "metadata": {
    "colab": {
     "base_uri": "https://localhost:8080/"
    },
    "id": "b8533c8a-280b-4d15-959c-666c37b17f7e",
    "outputId": "2a73af10-de95-4946-9c70-8552c5237a50"
   },
   "outputs": [
    {
     "name": "stdout",
     "output_type": "stream",
     "text": [
      "1/1 [==============================] - 0s 30ms/step - loss: 0.0217 - accuracy: 1.0000\n",
      "Test Loss: 0.02172904647886753\n",
      "Test Accuracy: 1.0\n"
     ]
    }
   ],
   "source": [
    "test_loss,test_accuracy=model.evaluate(x_test,y_test)\n",
    "print(\"Test Loss:\",test_loss)\n",
    "print(\"Test Accuracy:\",test_accuracy)"
   ]
  },
  {
   "cell_type": "markdown",
   "id": "a630fd5f-f276-4855-8027-c148cc1eea6a",
   "metadata": {
    "id": "a630fd5f-f276-4855-8027-c148cc1eea6a"
   },
   "source": [
    "###### Step-5"
   ]
  },
  {
   "cell_type": "code",
   "execution_count": 32,
   "id": "930e0e5f-3ea5-49e4-957b-d995a52f620a",
   "metadata": {
    "id": "930e0e5f-3ea5-49e4-957b-d995a52f620a"
   },
   "outputs": [],
   "source": [
    "def create_model_with_config(input_shape,num_classes,num_nodes,num_layers):\n",
    "    model = Sequential()\n",
    "    model.add(Flatten(input_shape=input_shape))\n",
    "    for _ in range(num_layers):\n",
    "        model.add(Dense(num_nodes, activation='relu'))\n",
    "    model.add(Dense(num_classes, activation='softmax'))\n",
    "    return model"
   ]
  },
  {
   "cell_type": "code",
   "execution_count": 33,
   "id": "36cc3676-1c69-4f49-a32a-e2571be7d89e",
   "metadata": {
    "id": "36cc3676-1c69-4f49-a32a-e2571be7d89e"
   },
   "outputs": [],
   "source": [
    "nodes_list=[8, 16, 32, 64, 128]\n",
    "layers_list=[2, 3, 4]"
   ]
  },
  {
   "cell_type": "code",
   "execution_count": 34,
   "id": "278295ef-ead8-431c-a6b3-1457e6022662",
   "metadata": {
    "id": "278295ef-ead8-431c-a6b3-1457e6022662"
   },
   "outputs": [],
   "source": [
    "num_params_list=[]\n",
    "train_accuracy_list=[]\n",
    "test_accuracy_list=[]\n",
    "running_time_list=[]\n",
    "\n",
    "for num_nodes in nodes_list:\n",
    "    for num_layers in layers_list:\n",
    "        model=create_model_with_config(input_shape,num_classes,num_nodes,num_layers)\n",
    "        model.compile(loss='sparse_categorical_crossentropy',optimizer='adam',metrics=['accuracy'])\n",
    "        start_time=time.time()\n",
    "        history=model.fit(x_train,y_train,batch_size=32,epochs=20,validation_split=0.1,verbose=0)\n",
    "        end_time=time.time()\n",
    "        running_time=end_time-start_time\n",
    "        _,train_accuracy=model.evaluate(x_train,y_train,verbose=0)\n",
    "        _,test_accuracy=model.evaluate(x_test, y_test,verbose=0)\n",
    "        num_params=model.count_params()\n",
    "\n",
    "        num_params_list.append(num_params)\n",
    "        train_accuracy_list.append(train_accuracy)\n",
    "        test_accuracy_list.append(test_accuracy)\n",
    "        running_time_list.append(running_time)"
   ]
  },
  {
   "cell_type": "code",
   "execution_count": 35,
   "id": "19bf62a6-829d-4892-b252-f975093accd7",
   "metadata": {
    "colab": {
     "base_uri": "https://localhost:8080/",
     "height": 991
    },
    "id": "19bf62a6-829d-4892-b252-f975093accd7",
    "outputId": "4a58ddf6-ba4e-4bbb-f881-e191b76d2469"
   },
   "outputs": [
    {
     "data": {
      "image/png": "[encoded data removed]",
      "text/plain": [
       "<Figure size 1200x1000 with 4 Axes>"
      ]
     },
     "metadata": {},
     "output_type": "display_data"
    }
   ],
   "source": [
    "fig, axes = plt.subplots(2, 2, figsize=(12, 10))\n",
    "axes[0, 0].bar(range(len(num_params_list)), num_params_list)\n",
    "axes[0, 0].set_xticks(range(len(num_params_list)))\n",
    "axes[0, 0].set_xticklabels(nodes_list * len(layers_list))\n",
    "axes[0, 0].set_xlabel('Number of Nodes')\n",
    "axes[0, 0].set_ylabel('Number of Parameters')\n",
    "axes[0, 0].set_title('Number of Parameters vs. Number of Nodes')\n",
    "\n",
    "axes[0, 1].bar(range(len(num_params_list)), num_params_list)\n",
    "axes[0, 1].set_xticks(range(len(num_params_list)))\n",
    "axes[0, 1].set_xticklabels(layers_list * len(nodes_list))\n",
    "axes[0, 1].set_xlabel('Number of Layers')\n",
    "axes[0, 1].set_ylabel('Number of Parameters')\n",
    "axes[0, 1].set_title('Number of Parameters vs. Number of Layers')\n",
    "\n",
    "axes[1, 0].bar(range(len(train_accuracy_list)), train_accuracy_list)\n",
    "axes[1, 0].set_xticks(range(len(train_accuracy_list)))\n",
    "axes[1, 0].set_xticklabels(nodes_list * len(layers_list))\n",
    "axes[1, 0].set_xlabel('Number of Nodes')\n",
    "axes[1, 0].set_ylabel('Training Accuracy')\n",
    "axes[1, 0].set_title('Training Accuracy vs. Number of Nodes')\n",
    "\n",
    "axes[1, 1].bar(range(len(test_accuracy_list)), test_accuracy_list)\n",
    "axes[1, 1].set_xticks(range(len(test_accuracy_list)))\n",
    "axes[1, 1].set_xticklabels(nodes_list * len(layers_list))\n",
    "axes[1, 1].set_xlabel('Number of Nodes')\n",
    "axes[1, 1].set_ylabel('Testing Accuracy')\n",
    "axes[1, 1].set_title('Testing Accuracy vs. Number of Nodes')\n",
    "\n",
    "plt.tight_layout()\n",
    "plt.show()\n"
   ]
  },
  {
   "cell_type": "code",
   "execution_count": null,
   "id": "d5f1feb9-140a-42a3-afa2-10e7d4e66b22",
   "metadata": {
    "id": "d5f1feb9-140a-42a3-afa2-10e7d4e66b22"
   },
   "outputs": [],
   "source": []
  }
 ],
 "metadata": {
  "colab": {
   "provenance": []
  },
  "kernelspec": {
   "display_name": "Python 3 (ipykernel)",
   "language": "python",
   "name": "python3"
  },
  "language_info": {
   "codemirror_mode": {
    "name": "ipython",
    "version": 3
   },
   "file_extension": ".py",
   "mimetype": "text/x-python",
   "name": "python",
   "nbconvert_exporter": "python",
   "pygments_lexer": "ipython3",
   "version": "3.9.12"
  }
 },
 "nbformat": 4,
 "nbformat_minor": 5
}
