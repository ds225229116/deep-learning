{
 "cells": [
  {
   "cell_type": "markdown",
   "id": "60c30ad9",
   "metadata": {},
   "source": [
    "## PDL LAB CIA -2"
   ]
  },
  {
   "cell_type": "code",
   "execution_count": 2,
   "id": "2369f72e",
   "metadata": {},
   "outputs": [
    {
     "name": "stderr",
     "output_type": "stream",
     "text": [
      "C:\\Users\\newli\\AppData\\Roaming\\Python\\Python39\\site-packages\\numpy\\_distributor_init.py:30: UserWarning: loaded more than 1 DLL from .libs:\n",
      "C:\\Users\\newli\\AppData\\Roaming\\Python\\Python39\\site-packages\\numpy\\.libs\\libopenblas.WCDJNK7YVMPZQ2ME2ZZHJJRJ3JIKNDB7.gfortran-win_amd64.dll\n",
      "C:\\Users\\newli\\AppData\\Roaming\\Python\\Python39\\site-packages\\numpy\\.libs\\libopenblas64__v0.3.21-gcc_10_3_0.dll\n",
      "  warnings.warn(\"loaded more than 1 DLL from .libs:\"\n"
     ]
    }
   ],
   "source": [
    "import pandas as pd\n",
    "import numpy as np"
   ]
  },
  {
   "cell_type": "code",
   "execution_count": 3,
   "id": "cc55e2f3",
   "metadata": {},
   "outputs": [
    {
     "data": {
      "text/html": [
       "<div>\n",
       "<style scoped>\n",
       "    .dataframe tbody tr th:only-of-type {\n",
       "        vertical-align: middle;\n",
       "    }\n",
       "\n",
       "    .dataframe tbody tr th {\n",
       "        vertical-align: top;\n",
       "    }\n",
       "\n",
       "    .dataframe thead th {\n",
       "        text-align: right;\n",
       "    }\n",
       "</style>\n",
       "<table border=\"1\" class=\"dataframe\">\n",
       "  <thead>\n",
       "    <tr style=\"text-align: right;\">\n",
       "      <th></th>\n",
       "      <th>id</th>\n",
       "      <th>comment_text</th>\n",
       "      <th>toxic</th>\n",
       "      <th>severe_toxic</th>\n",
       "      <th>obscene</th>\n",
       "      <th>threat</th>\n",
       "      <th>insult</th>\n",
       "      <th>identity_hate</th>\n",
       "    </tr>\n",
       "  </thead>\n",
       "  <tbody>\n",
       "    <tr>\n",
       "      <th>0</th>\n",
       "      <td>0000997932d777bf</td>\n",
       "      <td>Explanation\\nWhy the edits made under my usern...</td>\n",
       "      <td>0</td>\n",
       "      <td>0</td>\n",
       "      <td>0</td>\n",
       "      <td>0</td>\n",
       "      <td>0</td>\n",
       "      <td>0</td>\n",
       "    </tr>\n",
       "    <tr>\n",
       "      <th>1</th>\n",
       "      <td>000103f0d9cfb60f</td>\n",
       "      <td>D'aww! He matches this background colour I'm s...</td>\n",
       "      <td>0</td>\n",
       "      <td>0</td>\n",
       "      <td>0</td>\n",
       "      <td>0</td>\n",
       "      <td>0</td>\n",
       "      <td>0</td>\n",
       "    </tr>\n",
       "    <tr>\n",
       "      <th>2</th>\n",
       "      <td>000113f07ec002fd</td>\n",
       "      <td>Hey man, I'm really not trying to edit war. It...</td>\n",
       "      <td>0</td>\n",
       "      <td>0</td>\n",
       "      <td>0</td>\n",
       "      <td>0</td>\n",
       "      <td>0</td>\n",
       "      <td>0</td>\n",
       "    </tr>\n",
       "    <tr>\n",
       "      <th>3</th>\n",
       "      <td>0001b41b1c6bb37e</td>\n",
       "      <td>\"\\nMore\\nI can't make any real suggestions on ...</td>\n",
       "      <td>0</td>\n",
       "      <td>0</td>\n",
       "      <td>0</td>\n",
       "      <td>0</td>\n",
       "      <td>0</td>\n",
       "      <td>0</td>\n",
       "    </tr>\n",
       "    <tr>\n",
       "      <th>4</th>\n",
       "      <td>0001d958c54c6e35</td>\n",
       "      <td>You, sir, are my hero. Any chance you remember...</td>\n",
       "      <td>0</td>\n",
       "      <td>0</td>\n",
       "      <td>0</td>\n",
       "      <td>0</td>\n",
       "      <td>0</td>\n",
       "      <td>0</td>\n",
       "    </tr>\n",
       "  </tbody>\n",
       "</table>\n",
       "</div>"
      ],
      "text/plain": [
       "                 id                                       comment_text  toxic  \\\n",
       "0  0000997932d777bf  Explanation\\nWhy the edits made under my usern...      0   \n",
       "1  000103f0d9cfb60f  D'aww! He matches this background colour I'm s...      0   \n",
       "2  000113f07ec002fd  Hey man, I'm really not trying to edit war. It...      0   \n",
       "3  0001b41b1c6bb37e  \"\\nMore\\nI can't make any real suggestions on ...      0   \n",
       "4  0001d958c54c6e35  You, sir, are my hero. Any chance you remember...      0   \n",
       "\n",
       "   severe_toxic  obscene  threat  insult  identity_hate  \n",
       "0             0        0       0       0              0  \n",
       "1             0        0       0       0              0  \n",
       "2             0        0       0       0              0  \n",
       "3             0        0       0       0              0  \n",
       "4             0        0       0       0              0  "
      ]
     },
     "execution_count": 3,
     "metadata": {},
     "output_type": "execute_result"
    }
   ],
   "source": [
    "df=pd.read_csv(\"train.csv\")\n",
    "df.head()"
   ]
  },
  {
   "cell_type": "code",
   "execution_count": 4,
   "id": "b674ab43",
   "metadata": {},
   "outputs": [],
   "source": [
    "from sklearn.model_selection import train_test_split\n",
    "from sklearn.metrics import classification_report\n",
    "from tensorflow.keras.preprocessing.text import Tokenizer\n",
    "from tensorflow.keras.preprocessing.sequence import pad_sequences\n",
    "from tensorflow.keras.models import Sequential\n",
    "from tensorflow.keras.layers import Embedding, LSTM, SimpleRNN, GRU, Dense\n",
    "from sklearn.metrics import classification_report, accuracy_score"
   ]
  },
  {
   "cell_type": "code",
   "execution_count": 5,
   "id": "ee0d6139",
   "metadata": {},
   "outputs": [],
   "source": [
    "from sklearn.model_selection import train_test_split\n",
    "X = np.random.rand(100, 3)\n",
    "y = np.random.randint(0, 2, 100)\n",
    "X_train, X_test, y_train, y_test = train_test_split(X, y, test_size=0.2, random_state=42)"
   ]
  },
  {
   "cell_type": "code",
   "execution_count": 6,
   "id": "5313000b",
   "metadata": {},
   "outputs": [],
   "source": [
    "from sklearn.preprocessing import StandardScaler\n",
    "scaler = StandardScaler()\n",
    "X_train = scaler.fit_transform(X_train)\n",
    "X_test = scaler.transform(X_test)"
   ]
  },
  {
   "cell_type": "markdown",
   "id": "5b4865d3",
   "metadata": {},
   "source": [
    "## LSTM"
   ]
  },
  {
   "cell_type": "code",
   "execution_count": 7,
   "id": "f2370170",
   "metadata": {},
   "outputs": [],
   "source": [
    "# Build LSTM model\n",
    "lstm_model = Sequential()\n",
    "lstm_model.add(LSTM(units=50, activation='relu', input_shape=(X_train.shape[1], 1)))\n",
    "lstm_model.add(Dense(units=1, activation='sigmoid'))\n",
    "lstm_model.compile(optimizer='adam', loss='binary_crossentropy', metrics=['accuracy'])"
   ]
  },
  {
   "cell_type": "code",
   "execution_count": 8,
   "id": "191d0a47",
   "metadata": {},
   "outputs": [
    {
     "name": "stdout",
     "output_type": "stream",
     "text": [
      "Epoch 1/10\n",
      "3/3 [==============================] - 3s 9ms/step - loss: 0.6939 - accuracy: 0.4500\n",
      "Epoch 2/10\n",
      "3/3 [==============================] - 0s 9ms/step - loss: 0.6921 - accuracy: 0.6000\n",
      "Epoch 3/10\n",
      "3/3 [==============================] - 0s 9ms/step - loss: 0.6911 - accuracy: 0.6000\n",
      "Epoch 4/10\n",
      "3/3 [==============================] - 0s 5ms/step - loss: 0.6902 - accuracy: 0.5625\n",
      "Epoch 5/10\n",
      "3/3 [==============================] - 0s 6ms/step - loss: 0.6891 - accuracy: 0.5625\n",
      "Epoch 6/10\n",
      "3/3 [==============================] - 0s 6ms/step - loss: 0.6881 - accuracy: 0.5625\n",
      "Epoch 7/10\n",
      "3/3 [==============================] - 0s 7ms/step - loss: 0.6873 - accuracy: 0.5625\n",
      "Epoch 8/10\n",
      "3/3 [==============================] - 0s 8ms/step - loss: 0.6864 - accuracy: 0.5625\n",
      "Epoch 9/10\n",
      "3/3 [==============================] - 0s 8ms/step - loss: 0.6856 - accuracy: 0.5625\n",
      "Epoch 10/10\n",
      "3/3 [==============================] - 0s 10ms/step - loss: 0.6849 - accuracy: 0.5625\n"
     ]
    },
    {
     "data": {
      "text/plain": [
       "<keras.src.callbacks.History at 0x1d98a4c3670>"
      ]
     },
     "execution_count": 8,
     "metadata": {},
     "output_type": "execute_result"
    }
   ],
   "source": [
    "lstm_model.fit(X_train, y_train, epochs=10, batch_size=32)"
   ]
  },
  {
   "cell_type": "code",
   "execution_count": 9,
   "id": "e0623f40",
   "metadata": {},
   "outputs": [
    {
     "name": "stdout",
     "output_type": "stream",
     "text": [
      "1/1 [==============================] - 1s 521ms/step\n"
     ]
    },
    {
     "name": "stderr",
     "output_type": "stream",
     "text": [
      "C:\\ProgramData\\Anaconda3\\lib\\site-packages\\sklearn\\metrics\\_classification.py:1318: UndefinedMetricWarning: Precision and F-score are ill-defined and being set to 0.0 in labels with no predicted samples. Use `zero_division` parameter to control this behavior.\n",
      "  _warn_prf(average, modifier, msg_start, len(result))\n",
      "C:\\ProgramData\\Anaconda3\\lib\\site-packages\\sklearn\\metrics\\_classification.py:1318: UndefinedMetricWarning: Precision and F-score are ill-defined and being set to 0.0 in labels with no predicted samples. Use `zero_division` parameter to control this behavior.\n",
      "  _warn_prf(average, modifier, msg_start, len(result))\n",
      "C:\\ProgramData\\Anaconda3\\lib\\site-packages\\sklearn\\metrics\\_classification.py:1318: UndefinedMetricWarning: Precision and F-score are ill-defined and being set to 0.0 in labels with no predicted samples. Use `zero_division` parameter to control this behavior.\n",
      "  _warn_prf(average, modifier, msg_start, len(result))\n"
     ]
    }
   ],
   "source": [
    "lstm_predictions = lstm_model.predict(X_test)\n",
    "lstm_predictions = (lstm_predictions > 0.5).astype(int)\n",
    "lstm_report = classification_report(y_test, lstm_predictions)\n",
    "lstm_accuracy = accuracy_score(y_test, lstm_predictions)"
   ]
  },
  {
   "cell_type": "code",
   "execution_count": 10,
   "id": "053f8a83",
   "metadata": {},
   "outputs": [
    {
     "name": "stdout",
     "output_type": "stream",
     "text": [
      "LSTM Classification Report:\n",
      "               precision    recall  f1-score   support\n",
      "\n",
      "           0       0.50      1.00      0.67        10\n",
      "           1       0.00      0.00      0.00        10\n",
      "\n",
      "    accuracy                           0.50        20\n",
      "   macro avg       0.25      0.50      0.33        20\n",
      "weighted avg       0.25      0.50      0.33        20\n",
      "\n",
      "LSTM Accuracy: 0.5\n"
     ]
    }
   ],
   "source": [
    "print(\"LSTM Classification Report:\\n\", lstm_report)\n",
    "print(\"LSTM Accuracy:\", lstm_accuracy)"
   ]
  },
  {
   "cell_type": "markdown",
   "id": "a6c51402",
   "metadata": {},
   "source": [
    "## RNN"
   ]
  },
  {
   "cell_type": "code",
   "execution_count": 11,
   "id": "f8894498",
   "metadata": {},
   "outputs": [],
   "source": [
    "from keras.layers import SimpleRNN \n",
    "rnn_model = Sequential()\n",
    "rnn_model.add(SimpleRNN(units=50, activation='relu', input_shape=(X_train.shape[1], 1)))\n",
    "rnn_model.add(Dense(units=1, activation='sigmoid'))\n",
    "rnn_model.compile(optimizer='adam', loss='binary_crossentropy', metrics=['accuracy'])"
   ]
  },
  {
   "cell_type": "code",
   "execution_count": 12,
   "id": "34dcceaa",
   "metadata": {},
   "outputs": [
    {
     "name": "stdout",
     "output_type": "stream",
     "text": [
      "Epoch 1/10\n",
      "3/3 [==============================] - 2s 15ms/step - loss: 0.6908 - accuracy: 0.5000\n",
      "Epoch 2/10\n",
      "3/3 [==============================] - 0s 9ms/step - loss: 0.6851 - accuracy: 0.5500\n",
      "Epoch 3/10\n",
      "3/3 [==============================] - 0s 8ms/step - loss: 0.6805 - accuracy: 0.5875\n",
      "Epoch 4/10\n",
      "3/3 [==============================] - 0s 5ms/step - loss: 0.6774 - accuracy: 0.6000\n",
      "Epoch 5/10\n",
      "3/3 [==============================] - 0s 3ms/step - loss: 0.6734 - accuracy: 0.6125\n",
      "Epoch 6/10\n",
      "3/3 [==============================] - 0s 7ms/step - loss: 0.6717 - accuracy: 0.5875\n",
      "Epoch 7/10\n",
      "3/3 [==============================] - 0s 7ms/step - loss: 0.6681 - accuracy: 0.6000\n",
      "Epoch 8/10\n",
      "3/3 [==============================] - 0s 4ms/step - loss: 0.6658 - accuracy: 0.6250\n",
      "Epoch 9/10\n",
      "3/3 [==============================] - 0s 3ms/step - loss: 0.6640 - accuracy: 0.6250\n",
      "Epoch 10/10\n",
      "3/3 [==============================] - 0s 6ms/step - loss: 0.6627 - accuracy: 0.6250\n",
      "1/1 [==============================] - 0s 262ms/step\n"
     ]
    }
   ],
   "source": [
    "rnn_model.fit(X_train, y_train, epochs=10, batch_size=32)\n",
    "rnn_predictions = rnn_model.predict(X_test)\n",
    "rnn_predictions = (rnn_predictions > 0.5).astype(int)\n",
    "rnn_report = classification_report(y_test, rnn_predictions)\n",
    "rnn_accuracy = accuracy_score(y_test, rnn_predictions)"
   ]
  },
  {
   "cell_type": "code",
   "execution_count": 13,
   "id": "0dcb85f3",
   "metadata": {},
   "outputs": [
    {
     "name": "stdout",
     "output_type": "stream",
     "text": [
      "RNN Classification Report:\n",
      "               precision    recall  f1-score   support\n",
      "\n",
      "           0       0.50      0.90      0.64        10\n",
      "           1       0.50      0.10      0.17        10\n",
      "\n",
      "    accuracy                           0.50        20\n",
      "   macro avg       0.50      0.50      0.40        20\n",
      "weighted avg       0.50      0.50      0.40        20\n",
      "\n",
      "RNN Accuracy: 0.5\n"
     ]
    }
   ],
   "source": [
    "print(\"RNN Classification Report:\\n\", rnn_report)\n",
    "print(\"RNN Accuracy:\", rnn_accuracy)"
   ]
  },
  {
   "cell_type": "markdown",
   "id": "8593f12c",
   "metadata": {},
   "source": [
    "### GRU"
   ]
  },
  {
   "cell_type": "code",
   "execution_count": 14,
   "id": "c31bd4e7",
   "metadata": {},
   "outputs": [],
   "source": [
    "gru_model = Sequential()\n",
    "gru_model.add(GRU(units=50, activation='relu', input_shape=(X_train.shape[1], 1)))\n",
    "gru_model.add(Dense(units=1, activation='sigmoid'))\n",
    "gru_model.compile(optimizer='adam', loss='binary_crossentropy', metrics=['accuracy'])"
   ]
  },
  {
   "cell_type": "code",
   "execution_count": 15,
   "id": "373ed284",
   "metadata": {},
   "outputs": [
    {
     "name": "stdout",
     "output_type": "stream",
     "text": [
      "Epoch 1/10\n",
      "3/3 [==============================] - 2s 11ms/step - loss: 0.6904 - accuracy: 0.5125\n",
      "Epoch 2/10\n",
      "3/3 [==============================] - 0s 8ms/step - loss: 0.6884 - accuracy: 0.5375\n",
      "Epoch 3/10\n",
      "3/3 [==============================] - 0s 14ms/step - loss: 0.6875 - accuracy: 0.5375\n",
      "Epoch 4/10\n",
      "3/3 [==============================] - 0s 8ms/step - loss: 0.6869 - accuracy: 0.5625\n",
      "Epoch 5/10\n",
      "3/3 [==============================] - 0s 7ms/step - loss: 0.6861 - accuracy: 0.5625\n",
      "Epoch 6/10\n",
      "3/3 [==============================] - 0s 3ms/step - loss: 0.6856 - accuracy: 0.5750\n",
      "Epoch 7/10\n",
      "3/3 [==============================] - 0s 7ms/step - loss: 0.6846 - accuracy: 0.6000\n",
      "Epoch 8/10\n",
      "3/3 [==============================] - 0s 4ms/step - loss: 0.6839 - accuracy: 0.6000\n",
      "Epoch 9/10\n",
      "3/3 [==============================] - 0s 7ms/step - loss: 0.6831 - accuracy: 0.5875\n",
      "Epoch 10/10\n",
      "3/3 [==============================] - 0s 7ms/step - loss: 0.6825 - accuracy: 0.5625\n",
      "1/1 [==============================] - 0s 276ms/step\n"
     ]
    },
    {
     "name": "stderr",
     "output_type": "stream",
     "text": [
      "C:\\ProgramData\\Anaconda3\\lib\\site-packages\\sklearn\\metrics\\_classification.py:1318: UndefinedMetricWarning: Precision and F-score are ill-defined and being set to 0.0 in labels with no predicted samples. Use `zero_division` parameter to control this behavior.\n",
      "  _warn_prf(average, modifier, msg_start, len(result))\n",
      "C:\\ProgramData\\Anaconda3\\lib\\site-packages\\sklearn\\metrics\\_classification.py:1318: UndefinedMetricWarning: Precision and F-score are ill-defined and being set to 0.0 in labels with no predicted samples. Use `zero_division` parameter to control this behavior.\n",
      "  _warn_prf(average, modifier, msg_start, len(result))\n",
      "C:\\ProgramData\\Anaconda3\\lib\\site-packages\\sklearn\\metrics\\_classification.py:1318: UndefinedMetricWarning: Precision and F-score are ill-defined and being set to 0.0 in labels with no predicted samples. Use `zero_division` parameter to control this behavior.\n",
      "  _warn_prf(average, modifier, msg_start, len(result))\n"
     ]
    }
   ],
   "source": [
    "gru_model.fit(X_train, y_train, epochs=10, batch_size=32)\n",
    "gru_predictions = gru_model.predict(X_test)\n",
    "gru_predictions = (gru_predictions > 0.5).astype(int)\n",
    "gru_report = classification_report(y_test, gru_predictions)\n",
    "gru_accuracy = accuracy_score(y_test, gru_predictions)"
   ]
  },
  {
   "cell_type": "code",
   "execution_count": 16,
   "id": "e35f1c44",
   "metadata": {},
   "outputs": [
    {
     "name": "stdout",
     "output_type": "stream",
     "text": [
      "GRU Classification Report:\n",
      "               precision    recall  f1-score   support\n",
      "\n",
      "           0       0.50      1.00      0.67        10\n",
      "           1       0.00      0.00      0.00        10\n",
      "\n",
      "    accuracy                           0.50        20\n",
      "   macro avg       0.25      0.50      0.33        20\n",
      "weighted avg       0.25      0.50      0.33        20\n",
      "\n",
      "GRU Accuracy: 0.5\n"
     ]
    }
   ],
   "source": [
    "print(\"GRU Classification Report:\\n\", gru_report)\n",
    "print(\"GRU Accuracy:\", gru_accuracy)"
   ]
  },
  {
   "cell_type": "markdown",
   "id": "bd8edc2d",
   "metadata": {},
   "source": [
    "## Evaluate and Compare models"
   ]
  },
  {
   "cell_type": "code",
   "execution_count": 17,
   "id": "bfe6edaf",
   "metadata": {},
   "outputs": [
    {
     "name": "stdout",
     "output_type": "stream",
     "text": [
      "1/1 [==============================] - 0s 61ms/step\n",
      "1/1 [==============================] - 0s 29ms/step\n",
      "1/1 [==============================] - 0s 37ms/step\n"
     ]
    }
   ],
   "source": [
    "lstm_predictions = lstm_model.predict(X_test)\n",
    "lstm_predictions = (lstm_predictions > 0.5).astype(int)\n",
    "rnn_predictions = rnn_model.predict(X_test)\n",
    "rnn_predictions = (rnn_predictions > 0.5).astype(int)\n",
    "gru_predictions = gru_model.predict(X_test)\n",
    "gru_predictions = (gru_predictions > 0.5).astype(int)\n"
   ]
  },
  {
   "cell_type": "code",
   "execution_count": 18,
   "id": "9034b057",
   "metadata": {},
   "outputs": [
    {
     "name": "stderr",
     "output_type": "stream",
     "text": [
      "C:\\ProgramData\\Anaconda3\\lib\\site-packages\\sklearn\\metrics\\_classification.py:1318: UndefinedMetricWarning: Precision and F-score are ill-defined and being set to 0.0 in labels with no predicted samples. Use `zero_division` parameter to control this behavior.\n",
      "  _warn_prf(average, modifier, msg_start, len(result))\n",
      "C:\\ProgramData\\Anaconda3\\lib\\site-packages\\sklearn\\metrics\\_classification.py:1318: UndefinedMetricWarning: Precision and F-score are ill-defined and being set to 0.0 in labels with no predicted samples. Use `zero_division` parameter to control this behavior.\n",
      "  _warn_prf(average, modifier, msg_start, len(result))\n",
      "C:\\ProgramData\\Anaconda3\\lib\\site-packages\\sklearn\\metrics\\_classification.py:1318: UndefinedMetricWarning: Precision and F-score are ill-defined and being set to 0.0 in labels with no predicted samples. Use `zero_division` parameter to control this behavior.\n",
      "  _warn_prf(average, modifier, msg_start, len(result))\n",
      "C:\\ProgramData\\Anaconda3\\lib\\site-packages\\sklearn\\metrics\\_classification.py:1318: UndefinedMetricWarning: Precision and F-score are ill-defined and being set to 0.0 in labels with no predicted samples. Use `zero_division` parameter to control this behavior.\n",
      "  _warn_prf(average, modifier, msg_start, len(result))\n",
      "C:\\ProgramData\\Anaconda3\\lib\\site-packages\\sklearn\\metrics\\_classification.py:1318: UndefinedMetricWarning: Precision and F-score are ill-defined and being set to 0.0 in labels with no predicted samples. Use `zero_division` parameter to control this behavior.\n",
      "  _warn_prf(average, modifier, msg_start, len(result))\n",
      "C:\\ProgramData\\Anaconda3\\lib\\site-packages\\sklearn\\metrics\\_classification.py:1318: UndefinedMetricWarning: Precision and F-score are ill-defined and being set to 0.0 in labels with no predicted samples. Use `zero_division` parameter to control this behavior.\n",
      "  _warn_prf(average, modifier, msg_start, len(result))\n"
     ]
    }
   ],
   "source": [
    "lstm_report = classification_report(y_test, lstm_predictions)\n",
    "lstm_accuracy = accuracy_score(y_test, lstm_predictions)\n",
    "rnn_report = classification_report(y_test, rnn_predictions)\n",
    "rnn_accuracy = accuracy_score(y_test, rnn_predictions)\n",
    "gru_report = classification_report(y_test, gru_predictions)\n",
    "gru_accuracy = accuracy_score(y_test, gru_predictions)"
   ]
  },
  {
   "cell_type": "code",
   "execution_count": 19,
   "id": "2e537c4c",
   "metadata": {},
   "outputs": [
    {
     "name": "stdout",
     "output_type": "stream",
     "text": [
      "LSTM Classification Report:\n",
      "               precision    recall  f1-score   support\n",
      "\n",
      "           0       0.50      1.00      0.67        10\n",
      "           1       0.00      0.00      0.00        10\n",
      "\n",
      "    accuracy                           0.50        20\n",
      "   macro avg       0.25      0.50      0.33        20\n",
      "weighted avg       0.25      0.50      0.33        20\n",
      "\n",
      "LSTM Accuracy: 0.5\n",
      "GRU Classification Report:\n",
      "               precision    recall  f1-score   support\n",
      "\n",
      "           0       0.50      1.00      0.67        10\n",
      "           1       0.00      0.00      0.00        10\n",
      "\n",
      "    accuracy                           0.50        20\n",
      "   macro avg       0.25      0.50      0.33        20\n",
      "weighted avg       0.25      0.50      0.33        20\n",
      "\n",
      "GRU Accuracy: 0.5\n",
      "GRU Classification Report:\n",
      "               precision    recall  f1-score   support\n",
      "\n",
      "           0       0.50      1.00      0.67        10\n",
      "           1       0.00      0.00      0.00        10\n",
      "\n",
      "    accuracy                           0.50        20\n",
      "   macro avg       0.25      0.50      0.33        20\n",
      "weighted avg       0.25      0.50      0.33        20\n",
      "\n",
      "GRU Accuracy: 0.5\n"
     ]
    }
   ],
   "source": [
    "print(\"LSTM Classification Report:\\n\", lstm_report)\n",
    "print(\"LSTM Accuracy:\", lstm_accuracy)\n",
    "print(\"GRU Classification Report:\\n\", gru_report)\n",
    "print(\"GRU Accuracy:\", gru_accuracy)\n",
    "print(\"GRU Classification Report:\\n\", gru_report)\n",
    "print(\"GRU Accuracy:\", gru_accuracy)"
   ]
  },
  {
   "cell_type": "markdown",
   "id": "ef7158d8",
   "metadata": {},
   "source": [
    "### compare"
   ]
  },
  {
   "cell_type": "code",
   "execution_count": 20,
   "id": "72f7b094",
   "metadata": {},
   "outputs": [],
   "source": [
    "from sklearn.metrics import classification_report, confusion_matrix"
   ]
  },
  {
   "cell_type": "code",
   "execution_count": 21,
   "id": "dbe45e65",
   "metadata": {},
   "outputs": [
    {
     "name": "stdout",
     "output_type": "stream",
     "text": [
      "LSTM Classification Report:\n",
      "               precision    recall  f1-score   support\n",
      "\n",
      "           0       0.50      1.00      0.67        10\n",
      "           1       0.00      0.00      0.00        10\n",
      "\n",
      "    accuracy                           0.50        20\n",
      "   macro avg       0.25      0.50      0.33        20\n",
      "weighted avg       0.25      0.50      0.33        20\n",
      "\n",
      "LSTM Confusion Matrix:\n",
      " [[10  0]\n",
      " [10  0]]\n",
      "RNN Classification Report:\n",
      "               precision    recall  f1-score   support\n",
      "\n",
      "           0       0.50      0.90      0.64        10\n",
      "           1       0.50      0.10      0.17        10\n",
      "\n",
      "    accuracy                           0.50        20\n",
      "   macro avg       0.50      0.50      0.40        20\n",
      "weighted avg       0.50      0.50      0.40        20\n",
      "\n",
      "RNN Confusion Matrix:\n",
      " [[9 1]\n",
      " [9 1]]\n",
      "GRU Classification Report:\n",
      "               precision    recall  f1-score   support\n",
      "\n",
      "           0       0.50      1.00      0.67        10\n",
      "           1       0.00      0.00      0.00        10\n",
      "\n",
      "    accuracy                           0.50        20\n",
      "   macro avg       0.25      0.50      0.33        20\n",
      "weighted avg       0.25      0.50      0.33        20\n",
      "\n",
      "GRU Confusion Matrix:\n",
      " [[10  0]\n",
      " [10  0]]\n"
     ]
    }
   ],
   "source": [
    "lstm_confusion_matrix = confusion_matrix(y_test, lstm_predictions)\n",
    "rnn_confusion_matrix = confusion_matrix(y_test, rnn_predictions)\n",
    "gru_confusion_matrix = confusion_matrix(y_test, gru_predictions)\n",
    "print(\"LSTM Classification Report:\\n\", lstm_report)\n",
    "print(\"LSTM Confusion Matrix:\\n\", lstm_confusion_matrix)\n",
    "print(\"RNN Classification Report:\\n\", rnn_report)\n",
    "print(\"RNN Confusion Matrix:\\n\", rnn_confusion_matrix)\n",
    "print(\"GRU Classification Report:\\n\", gru_report)\n",
    "print(\"GRU Confusion Matrix:\\n\", gru_confusion_matrix)"
   ]
  }
 ],
 "metadata": {
  "kernelspec": {
   "display_name": "Python 3 (ipykernel)",
   "language": "python",
   "name": "python3"
  },
  "language_info": {
   "codemirror_mode": {
    "name": "ipython",
    "version": 3
   },
   "file_extension": ".py",
   "mimetype": "text/x-python",
   "name": "python",
   "nbconvert_exporter": "python",
   "pygments_lexer": "ipython3",
   "version": "3.9.12"
  }
 },
 "nbformat": 4,
 "nbformat_minor": 5
}
